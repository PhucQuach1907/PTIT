{
 "cells": [
  {
   "cell_type": "code",
   "execution_count": 6,
   "id": "32b4fbb1-0f1f-4c3f-8361-5c218f4d7581",
   "metadata": {
    "tags": []
   },
   "outputs": [
    {
     "name": "stdout",
     "output_type": "stream",
     "text": [
      "sum of node1 and node2 is : 8\n"
     ]
    }
   ],
   "source": [
    "import tensorflow as tf\n",
    "\n",
    "# creating nodes in computation graph\n",
    "node1 = tf.constant(3, dtype=tf.int32)\n",
    "node2 = tf.constant(5, dtype=tf.int32)\n",
    "node3 = tf.add(node1, node2)\n",
    "\n",
    "# evaluating node3 and printing the result\n",
    "print(\"sum of node1 and node2 is :\", node3.numpy())\n"
   ]
  },
  {
   "cell_type": "code",
   "execution_count": 7,
   "id": "b4ca0314-168c-4532-b5d8-f4a609a558e6",
   "metadata": {
    "tags": []
   },
   "outputs": [
    {
     "name": "stdout",
     "output_type": "stream",
     "text": [
      "tf.Tensor([5.], shape=(1,), dtype=float32)\n"
     ]
    }
   ],
   "source": [
    "import tensorflow.compat.v1 as tf\n",
    "x = tf.constant(5,tf.float32)\n",
    "y = tf.constant([5], tf.float32)\n",
    "z = tf.constant([5,3,4], tf.float32)\n",
    "t = tf.constant([[5,3,4,6],[2,3,4,7]], tf.float32)\n",
    "u = tf.constant([[[5,3,4,6],[2,3,4,0]]], tf.float32)\n",
    "v = tf.constant([[[5,3,4,6],[2,3,4,0]], [[5,3,4,6],[2,3,4,0]], [[5,3,4,6],[2,3,4,0]]], tf.float32)\n",
    "print(y)\n"
   ]
  },
  {
   "cell_type": "code",
   "execution_count": 8,
   "id": "73f28ed8-4eff-43d0-9ccc-bfa201697837",
   "metadata": {
    "tags": []
   },
   "outputs": [
    {
     "name": "stdout",
     "output_type": "stream",
     "text": [
      "22.79\n"
     ]
    }
   ],
   "source": [
    "import tensorflow.compat.v1 as tf\n",
    "tf.compat.v1.disable_eager_execution()\n",
    "\n",
    "x1 = tf.Variable(5.3, tf.float32)\n",
    "x2 = tf.Variable(4.3, tf.float32)\n",
    "x = tf.multiply(x1,x2)\n",
    "\n",
    "init = tf.global_variables_initializer()\n",
    "with tf.Session() as sess:\n",
    "    sess.run(init)\n",
    "    t = sess.run(x)\n",
    "    print(t)\n",
    "    "
   ]
  },
  {
   "cell_type": "code",
   "execution_count": 9,
   "id": "9d3275c3-4cc0-4804-aa29-df9965b7bc3f",
   "metadata": {
    "tags": []
   },
   "outputs": [
    {
     "name": "stdout",
     "output_type": "stream",
     "text": [
      "[[22.79 19.35 42.  ]\n",
      " [22.79 19.35 42.  ]]\n"
     ]
    }
   ],
   "source": [
    "import tensorflow.compat.v1 as tf\n",
    "tf.compat.v1.disable_eager_execution()\n",
    "\n",
    "x1 = tf.Variable([[5.3,4.5,6.0], [4.3,4.3,7.0]], tf.float32)\n",
    "x2 = tf.Variable([[4.3,4.3,7.0], [5.3,4.5,6.0]], tf.float32)\n",
    "x = tf.multiply(x1,x2)\n",
    "\n",
    "init = tf.global_variables_initializer()\n",
    "with tf.Session() as sess:\n",
    "    sess.run(init)\n",
    "    t = sess.run(x)\n",
    "    print(t)"
   ]
  },
  {
   "cell_type": "code",
   "execution_count": 10,
   "id": "d7c2a0cc-358d-4482-8cb6-660221a6d6f5",
   "metadata": {
    "tags": []
   },
   "outputs": [
    {
     "name": "stdout",
     "output_type": "stream",
     "text": [
      "Tensor value before addition:\n",
      " [[0. 0.]\n",
      " [0. 0.]]\n",
      "Tensor value after addition:\n",
      " [[1. 1.]\n",
      " [1. 1.]]\n"
     ]
    }
   ],
   "source": [
    "import tensorflow.compat.v1 as tf\n",
    "\n",
    "# creating nodes in computation graph\n",
    "node = tf.Variable(tf.zeros([2,2]))\n",
    "\n",
    "# running computation graph\n",
    "with tf.Session() as sess:\n",
    "    # initialize all global variables\n",
    "    sess.run(tf.global_variables_initializer())\n",
    "    # evaluating node\n",
    "    print(\"Tensor value before addition:\\n\",sess.run(node))\n",
    "    # elementwise addition to tensor\n",
    "    node = node.assign(node + tf.ones([2,2]))\n",
    "    # evaluate node again\n",
    "    print(\"Tensor value after addition:\\n\", sess.run(node))\n",
    "    sess.close()\n",
    "    "
   ]
  },
  {
   "cell_type": "code",
   "execution_count": 12,
   "id": "21290398-ae85-44e3-bcc6-8680ad8cf996",
   "metadata": {
    "tags": []
   },
   "outputs": [
    {
     "name": "stdout",
     "output_type": "stream",
     "text": [
      "10.0\n"
     ]
    }
   ],
   "source": [
    "import tensorflow.compat.v1 as tf\n",
    "tf.compat.v1.disable_eager_execution()\n",
    "\n",
    "x = tf.placeholder(tf.float32,None)\n",
    "y = tf.add(x,x)\n",
    "\n",
    "with tf.Session() as sess:\n",
    "    x_data = 5\n",
    "    result = sess.run(y,feed_dict={x:x_data})\n",
    "    print(result)"
   ]
  },
  {
   "cell_type": "code",
   "execution_count": 13,
   "id": "cde6c8b0-5890-43f8-abca-3fcad4d84d90",
   "metadata": {
    "tags": []
   },
   "outputs": [
    {
     "name": "stdout",
     "output_type": "stream",
     "text": [
      "[[3.  4.  6.6]]\n"
     ]
    }
   ],
   "source": [
    "import tensorflow.compat.v1 as tf\n",
    "tf.compat.v1.disable_eager_execution()\\\n",
    "\n",
    "x = tf.placeholder(tf.float32,[None,3])\n",
    "y = tf.add(x,x)\n",
    "\n",
    "with tf.Session() as sess:\n",
    "    x_data= [[1.5, 2.0, 3.3]]\n",
    "    result = sess.run(y,feed_dict={x:x_data})\n",
    "    print(result)"
   ]
  },
  {
   "cell_type": "code",
   "execution_count": 14,
   "id": "d0537666-cb49-42b2-93a8-3d7b1369f3e4",
   "metadata": {
    "tags": []
   },
   "outputs": [
    {
     "name": "stdout",
     "output_type": "stream",
     "text": [
      "[[[2. 4. 6.]]]\n"
     ]
    }
   ],
   "source": [
    "import tensorflow.compat.v1 as tf\n",
    "tf.compat.v1.disable_eager_execution()\n",
    "\n",
    "x = tf.placeholder(tf.float32,[None,None,3])\n",
    "y = tf.add(x,x)\n",
    "\n",
    "with tf.Session() as sess:\n",
    "    x_data= [[[1,2,3]]]\n",
    "    result = sess.run(y,feed_dict={x:x_data})\n",
    "    print(result)"
   ]
  },
  {
   "cell_type": "code",
   "execution_count": 15,
   "id": "ef00b392-feeb-4d1c-8f60-7a030b630ce2",
   "metadata": {
    "tags": []
   },
   "outputs": [
    {
     "name": "stdout",
     "output_type": "stream",
     "text": [
      "[[[ 2.  4.  6.]\n",
      "  [ 4.  6.  8.]\n",
      "  [ 4.  6. 10.]\n",
      "  [ 0.  2.  4.]]]\n"
     ]
    }
   ],
   "source": [
    "import tensorflow.compat.v1 as tf\n",
    "tf.compat.v1.disable_eager_execution()\n",
    "\n",
    "x = tf.placeholder(tf.float32,[None,4,3])\n",
    "y = tf.add(x,x)\n",
    "\n",
    "with tf.Session() as sess:\n",
    "    x_data= [[[1,2,3], [2,3,4], [2,3,5], [0,1,2]]]\n",
    "    result = sess.run(y,feed_dict={x:x_data})\n",
    "    print(result)"
   ]
  },
  {
   "cell_type": "code",
   "execution_count": 17,
   "id": "27403e49-03d3-43b0-b1b8-433848df4c53",
   "metadata": {
    "tags": []
   },
   "outputs": [
    {
     "name": "stdout",
     "output_type": "stream",
     "text": [
      "[[[ 2.  4.  6.]\n",
      "  [ 4.  6.  8.]\n",
      "  [ 4.  6. 10.]\n",
      "  [ 0.  2.  4.]]\n",
      "\n",
      " [[ 2.  4.  6.]\n",
      "  [ 4.  6.  8.]\n",
      "  [ 4.  6. 10.]\n",
      "  [ 0.  2.  4.]]]\n"
     ]
    }
   ],
   "source": [
    "import tensorflow.compat.v1 as tf\n",
    "tf.compat.v1.disable_eager_execution()\n",
    "\n",
    "x = tf.placeholder(tf.float32,[2,4,3])\n",
    "y = tf.add(x,x)\n",
    "\n",
    "with tf.Session() as sess:\n",
    "    x_data= [[[1,2,3], [2,3,4], [2,3,5], [0,1,2]],\n",
    "            [[1,2,3], [2,3,4], [2,3,5], [0,1,2]]]\n",
    "    result = sess.run(y,feed_dict={x:x_data})\n",
    "    print(result)"
   ]
  },
  {
   "cell_type": "code",
   "execution_count": 18,
   "id": "b5813b36-a59f-4a74-86f4-9aa170f4c25c",
   "metadata": {
    "tags": []
   },
   "outputs": [
    {
     "name": "stdout",
     "output_type": "stream",
     "text": [
      "result1 = [[[ 2.  4.  6.]\n",
      "  [ 4.  6.  8.]\n",
      "  [ 4.  6. 10.]\n",
      "  [ 0.  2.  4.]]\n",
      "\n",
      " [[ 2.  4.  6.]\n",
      "  [ 4.  6.  8.]\n",
      "  [ 4.  6. 10.]\n",
      "  [ 0.  2.  4.]]]\n",
      "result2 = [[[ 1.  4.  9.]\n",
      "  [ 4.  9. 16.]\n",
      "  [ 4.  9. 25.]\n",
      "  [ 0.  1.  4.]]\n",
      "\n",
      " [[ 1.  4.  9.]\n",
      "  [ 4.  9. 16.]\n",
      "  [ 4.  9. 25.]\n",
      "  [ 0.  1.  4.]]]\n"
     ]
    }
   ],
   "source": [
    "import tensorflow.compat.v1 as tf\n",
    "tf.compat.v1.disable_eager_execution()\n",
    "\n",
    "x = tf.placeholder(tf.float32,[2,4,3])\n",
    "y = tf.placeholder(tf.float32,[2,4,3])\n",
    "z = tf.add(x,y)\n",
    "u = tf.multiply(x,y)\n",
    "\n",
    "with tf.Session() as sess:\n",
    "    x_data= [[[1,2,3], [2,3,4], [2,3,5], [0,1,2]],\n",
    "            [[1,2,3], [2,3,4], [2,3,5], [0,1,2]]]\n",
    "    y_data= [[[1,2,3], [2,3,4], [2,3,5], [0,1,2]],\n",
    "            [[1,2,3], [2,3,4], [2,3,5], [0,1,2]]]\n",
    "    result1 = sess.run(z,feed_dict={x:x_data, y:y_data})\n",
    "    result2 = sess.run(u,feed_dict={x:x_data, y:y_data})\n",
    "    print(\"result1 =\", result1)\n",
    "    print(\"result2 =\", result2)"
   ]
  },
  {
   "cell_type": "code",
   "execution_count": 19,
   "id": "11efebe9-eacd-4851-9083-be27e5d9b962",
   "metadata": {
    "tags": []
   },
   "outputs": [
    {
     "name": "stdout",
     "output_type": "stream",
     "text": [
      "0.9885698\n"
     ]
    }
   ],
   "source": [
    "import tensorflow.compat.v1 as tf\n",
    "tf.compat.v1.disable_eager_execution()\n",
    "\n",
    "x1 = tf.constant(5.3, tf.float32)\n",
    "x2 = tf.constant(1.5, tf.float32)\n",
    "w1 = tf.Variable(0.7, tf.float32)\n",
    "w2 = tf.Variable(0.5, tf.float32)\n",
    "u = tf.multiply(x1,w1)\n",
    "v = tf.multiply(x2,w2)\n",
    "z = tf.add(u,v)\n",
    "\n",
    "result = tf.sigmoid(z)\n",
    "init = tf.global_variables_initializer()\n",
    "\n",
    "with tf.Session() as sess:\n",
    "    sess.run(init)\n",
    "    print(sess.run(result))"
   ]
  },
  {
   "cell_type": "code",
   "execution_count": 20,
   "id": "4fa8de63-34d7-4ec8-9701-dd970b8b24b4",
   "metadata": {
    "tags": []
   },
   "outputs": [
    {
     "data": {
      "image/png": "[encoded data removed]",
      "text/plain": [
       "<Figure size 640x480 with 1 Axes>"
      ]
     },
     "metadata": {},
     "output_type": "display_data"
    }
   ],
   "source": [
    "import numpy as np\n",
    "import matplotlib.pyplot as plt\n",
    "\n",
    "number_of_points = 500\n",
    "x_point = []\n",
    "y_point = []\n",
    "a = 0.22\n",
    "b = 0.78\n",
    "\n",
    "for i in range(number_of_points):\n",
    "    x = np.random.normal(0.0,0.5)\n",
    "    y = a*x + b +np.random.normal(0.0,0.1)\n",
    "    x_point.append([x])\n",
    "    y_point.append([y])\n",
    "    \n",
    "plt.plot(x_point,y_point, 'o', label = 'Input Data')\n",
    "plt.legend()\n",
    "plt.show()"
   ]
  },
  {
   "cell_type": "code",
   "execution_count": 21,
   "id": "39318cd3-a7b5-408b-9aa4-8c28bdaefeb3",
   "metadata": {
    "tags": []
   },
   "outputs": [
    {
     "name": "stdout",
     "output_type": "stream",
     "text": [
      "[[0.785835   0.85814893 0.9801597 ]]\n"
     ]
    }
   ],
   "source": [
    "import tensorflow.compat.v1 as tf\n",
    "tf.compat.v1.disable_eager_execution()\n",
    "\n",
    "x1 = tf.placeholder(tf.float32,[None,3])\n",
    "x2 = tf.placeholder(tf.float32,[None,3])\n",
    "w1 = tf.Variable([0.5,0.4,0.7],tf.float32)\n",
    "w2 = tf.Variable([0.8,0.5,0.6], tf.float32)\n",
    "u1 = tf.multiply(w1,x1)\n",
    "u2 = tf.multiply(w2,x2)\n",
    "v = tf.add(u1,u2)\n",
    "z = tf.sigmoid(v)\n",
    "init = tf.global_variables_initializer()\n",
    "\n",
    "with tf.Session() as sess:\n",
    "    x1_data= [[1,2,3]]\n",
    "    x2_data= [[1,2,3]]\n",
    "    sess.run(init)\n",
    "    result = sess.run(z,feed_dict={x1:x1_data, x2:x2_data})\n",
    "    print(result)"
   ]
  },
  {
   "cell_type": "code",
   "execution_count": 22,
   "id": "6302f489-d8da-465b-9fb6-7fd352876d1d",
   "metadata": {
    "tags": []
   },
   "outputs": [
    {
     "name": "stdout",
     "output_type": "stream",
     "text": [
      "[[2 2 2]\n",
      " [2 2 2]\n",
      " [2 2 2]]\n",
      "[[1 1 1]\n",
      " [1 1 1]\n",
      " [1 1 1]]\n",
      "[[2. 7. 2.]\n",
      " [1. 4. 2.]\n",
      " [9. 0. 2.]]\n"
     ]
    },
    {
     "ename": "AttributeError",
     "evalue": "module 'tensorflow' has no attribute 'matrix_determinant'",
     "output_type": "error",
     "traceback": [
      "\u001b[1;31m---------------------------------------------------------------------------\u001b[0m",
      "\u001b[1;31mAttributeError\u001b[0m                            Traceback (most recent call last)",
      "Cell \u001b[1;32mIn[22], line 16\u001b[0m\n\u001b[0;32m     13\u001b[0m matrix_3 \u001b[38;5;241m=\u001b[39m np\u001b[38;5;241m.\u001b[39marray([(\u001b[38;5;241m2\u001b[39m,\u001b[38;5;241m7\u001b[39m,\u001b[38;5;241m2\u001b[39m),(\u001b[38;5;241m1\u001b[39m,\u001b[38;5;241m4\u001b[39m,\u001b[38;5;241m2\u001b[39m),(\u001b[38;5;241m9\u001b[39m,\u001b[38;5;241m0\u001b[39m,\u001b[38;5;241m2\u001b[39m)],dtype \u001b[38;5;241m=\u001b[39m \u001b[38;5;124m'\u001b[39m\u001b[38;5;124mfloat32\u001b[39m\u001b[38;5;124m'\u001b[39m)\n\u001b[0;32m     14\u001b[0m \u001b[38;5;28mprint\u001b[39m (matrix_3)\n\u001b[1;32m---> 16\u001b[0m matrix_det \u001b[38;5;241m=\u001b[39m tf\u001b[38;5;241m.\u001b[39mmatrix_determinant(matrix_3)\n\u001b[0;32m     17\u001b[0m \u001b[38;5;28;01mwith\u001b[39;00m tf\u001b[38;5;241m.\u001b[39mSession() \u001b[38;5;28;01mas\u001b[39;00m sess:\n\u001b[0;32m     18\u001b[0m     result1 \u001b[38;5;241m=\u001b[39m sess\u001b[38;5;241m.\u001b[39mrun(matrix_product)\n",
      "\u001b[1;31mAttributeError\u001b[0m: module 'tensorflow' has no attribute 'matrix_determinant'"
     ]
    }
   ],
   "source": [
    "import tensorflow as tf\n",
    "import numpy as np\n",
    "\n",
    "matrix1 = np.array([(2,2,2),(2,2,2),(2,2,2)],dtype = 'int32')\n",
    "matrix2 = np.array([(1,1,1),(1,1,1),(1,1,1)],dtype = 'int32')\n",
    "print (matrix1)\n",
    "print (matrix2)\n",
    "\n",
    "matrix1 = tf.constant(matrix1)\n",
    "matrix2 = tf.constant(matrix2)\n",
    "matrix_product = tf.matmul(matrix1, matrix2)\n",
    "matrix_sum = tf.add(matrix1,matrix2)\n",
    "matrix_3 = np.array([(2,7,2),(1,4,2),(9,0,2)],dtype = 'float32')\n",
    "print (matrix_3)\n",
    "\n",
    "matrix_det = tf.matrix_determinant(matrix_3)\n",
    "with tf.Session() as sess:\n",
    "    result1 = sess.run(matrix_product)\n",
    "    result2 = sess.run(matrix_sum)\n",
    "    result3 = sess.run(matrix_det)\n",
    "    \n",
    "print (result1)\n",
    "print (result2)\n",
    "print (result3)"
   ]
  },
  {
   "cell_type": "code",
   "execution_count": 26,
   "id": "3023a4a9-a6fc-4655-a7f3-1ee4c182ad3e",
   "metadata": {
    "tags": []
   },
   "outputs": [
    {
     "name": "stdout",
     "output_type": "stream",
     "text": [
      "Epoch:   200 \t Cost:   0.09387 \t W:0.3254 \t b:0.2756\n",
      "Epoch:   400 \t Cost:   0.08735 \t W:0.3095 \t b:0.3885\n",
      "Epoch:   600 \t Cost:   0.08334 \t W: 0.297 \t b: 0.477\n",
      "Epoch:   800 \t Cost:   0.08087 \t W:0.2872 \t b:0.5464\n",
      "Epoch:  1000 \t Cost:   0.07936 \t W:0.2796 \t b:0.6008\n",
      "Epoch:  1200 \t Cost:   0.07842 \t W:0.2735 \t b:0.6435\n",
      "Epoch:  1400 \t Cost:   0.07785 \t W:0.2688 \t b: 0.677\n",
      "Epoch:  1600 \t Cost:   0.07749 \t W:0.2651 \t b:0.7033\n",
      "Epoch:  1800 \t Cost:   0.07728 \t W:0.2622 \t b:0.7239\n",
      "Epoch:  2000 \t Cost:   0.07714 \t W:0.2599 \t b:  0.74\n",
      "Optimization Finished!\n",
      "Final training cost: 0.077142656 W: 0.2599249 b: 0.7400293 \n",
      "\n"
     ]
    },
    {
     "data": {
      "image/png": "[encoded data removed]",
      "text/plain": [
       "<Figure size 640x480 with 1 Axes>"
      ]
     },
     "metadata": {},
     "output_type": "display_data"
    },
    {
     "name": "stdout",
     "output_type": "stream",
     "text": [
      "Final testing cost: 0.076841086\n",
      "Absolute mean square loss difference: 0.0003015697\n"
     ]
    },
    {
     "data": {
      "image/png": "[encoded data removed]",
      "text/plain": [
       "<Figure size 640x480 with 1 Axes>"
      ]
     },
     "metadata": {},
     "output_type": "display_data"
    }
   ],
   "source": [
    "import tensorflow.compat.v1 as tf\n",
    "import numpy as np\n",
    "import matplotlib.pyplot as plt\n",
    "\n",
    "# Disable eager execution\n",
    "tf.compat.v1.disable_eager_execution()\n",
    "\n",
    "# Model Parameters\n",
    "learning_rate = 0.01\n",
    "training_epochs = 2000\n",
    "display_step = 200\n",
    "\n",
    "# Training Data\n",
    "train_X = np.asarray([3.3,4.4,5.5,6.71,6.93,4.168,9.779,6.182,7.59,2.167,\n",
    "                        7.042,10.791,5.313,7.997,5.654,9.27,3.1])\n",
    "train_y = np.asarray([1.7,2.76,2.09,3.19,1.694,1.573,3.366,2.596,2.53,1.221,\n",
    "                        2.827,3.465,1.65,2.904,2.42,2.94,1.3])\n",
    "n_samples = train_X.shape[0]\n",
    "\n",
    "# Test Data\n",
    "test_X = np.asarray([6.83, 4.668, 8.9, 7.91, 5.7, 8.7, 3.1, 2.1])\n",
    "\n",
    "# Set placeholders for feature and target vectors\n",
    "X = tf.compat.v1.placeholder(tf.float32)\n",
    "y = tf.compat.v1.placeholder(tf.float32)\n",
    "\n",
    "# Set model weights and bias\n",
    "test_y = np.asarray([1.84, 2.273, 3.2, 2.831, 2.92, 3.24, 1.35, 1.03])\n",
    "W = tf.Variable(np.random.randn(), name=\"weight\")\n",
    "b = tf.Variable(np.random.randn(), name=\"bias\")\n",
    "\n",
    "# Construct a linear model\n",
    "linear_model = W*X + b\n",
    "\n",
    "# Mean squared error\n",
    "cost = tf.reduce_sum(tf.square(linear_model - y)) / (2*n_samples)\n",
    "\n",
    "# Gradient descent\n",
    "optimizer = tf.compat.v1.train.GradientDescentOptimizer(learning_rate).minimize(cost)\n",
    "\n",
    "# Initializing the variables\n",
    "init = tf.compat.v1.global_variables_initializer()\n",
    "\n",
    "# Launch the graph\n",
    "with tf.compat.v1.Session() as sess:\n",
    "    # Load initialized variables in the current session\n",
    "    sess.run(init)\n",
    "    \n",
    "    # Fit all training data\n",
    "    for epoch in range(training_epochs):\n",
    "        # Perform gradient descent step\n",
    "        sess.run(optimizer, feed_dict={X: train_X, y: train_y})\n",
    "        \n",
    "        # Display logs per epoch step\n",
    "        if (epoch+1) % display_step == 0:\n",
    "            c = sess.run(cost, feed_dict={X: train_X, y: train_y})\n",
    "            print(\"Epoch:{0:6} \\t Cost:{1:10.4} \\t W:{2:6.4} \\t b:{3:6.4}\".format(epoch+1, c, sess.run(W), sess.run(b)))\n",
    "        \n",
    "    # Print final parameter values\n",
    "    print(\"Optimization Finished!\")\n",
    "    training_cost = sess.run(cost, feed_dict={X: train_X, y: train_y})\n",
    "    print(\"Final training cost:\", training_cost, \"W:\", sess.run(W), \"b:\", sess.run(b), '\\n')\n",
    "    \n",
    "    # Graphic display\n",
    "    plt.plot(train_X, train_y, 'ro', label='Original data')\n",
    "    plt.plot(train_X, sess.run(W) * train_X + sess.run(b), label='Fitted line')\n",
    "    plt.legend()\n",
    "    plt.show()\n",
    "    \n",
    "    # Testing the model\n",
    "    testing_cost = sess.run(tf.reduce_sum(tf.square(linear_model - y)) / (2 * test_X.shape[0]),\n",
    "    feed_dict={X: test_X, y: test_y})\n",
    "    print(\"Final testing cost:\", testing_cost)\n",
    "    print(\"Absolute mean square loss difference:\", abs(training_cost - testing_cost))\n",
    "    \n",
    "    # Display fitted line on test data\n",
    "    plt.plot(test_X, test_y, 'bo', label='Testing data')\n",
    "    plt.plot(train_X, sess.run(W) * train_X + sess.run(b), label='Fitted line')\n",
    "    plt.legend()\n",
    "    plt.show()\n"
   ]
  },
  {
   "cell_type": "code",
   "execution_count": null,
   "id": "b61a1e28-318f-4fa0-a2a2-9ceea41ec2a6",
   "metadata": {},
   "outputs": [],
   "source": []
  }
 ],
 "metadata": {
  "kernelspec": {
   "display_name": "Python 3 (ipykernel)",
   "language": "python",
   "name": "python3"
  },
  "language_info": {
   "codemirror_mode": {
    "name": "ipython",
    "version": 3
   },
   "file_extension": ".py",
   "mimetype": "text/x-python",
   "name": "python",
   "nbconvert_exporter": "python",
   "pygments_lexer": "ipython3",
   "version": "3.11.4"
  }
 },
 "nbformat": 4,
 "nbformat_minor": 5
}
