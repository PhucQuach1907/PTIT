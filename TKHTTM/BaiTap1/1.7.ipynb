{
 "cells": [
  {
   "cell_type": "code",
   "execution_count": 1,
   "metadata": {
    "pycharm": {
     "is_executing": true
    },
    "tags": []
   },
   "outputs": [
    {
     "name": "stdout",
     "output_type": "stream",
     "text": [
      "Ann - BMI: 28.89 - Category: Overweight\n",
      "Joe - BMI: 14.52 - Category: Underweight\n",
      "Mark - BMI: 23.05 - Category: Normal weight\n"
     ]
    }
   ],
   "source": [
    "import numpy as np\n",
    "\n",
    "# Given data\n",
    "names = np.array(['Ann', 'Joe', 'Mark'])\n",
    "heights = np.array([1.5, 1.78, 1.6])\n",
    "weights = np.array([65, 46, 59])\n",
    "\n",
    "# Calculate BMI for each individual\n",
    "bmi_values = weights / (heights ** 2)\n",
    "\n",
    "# Define BMI categories\n",
    "underweight_threshold = 18.5\n",
    "overweight_threshold = 25\n",
    "\n",
    "# Classify individuals based on BMI\n",
    "bmi_categories = []\n",
    "for bmi in bmi_values:\n",
    "    if bmi < underweight_threshold:\n",
    "        bmi_categories.append('Underweight')\n",
    "    elif bmi > overweight_threshold:\n",
    "        bmi_categories.append('Overweight')\n",
    "    else:\n",
    "        bmi_categories.append('Normal weight')\n",
    "\n",
    "# Display results for each individual\n",
    "for i in range(len(names)):\n",
    "    print(f\"{names[i]} - BMI: {bmi_values[i]:.2f} - Category: {bmi_categories[i]}\")\n"
   ]
  },
  {
   "cell_type": "code",
   "execution_count": null,
   "metadata": {
    "collapsed": false,
    "jupyter": {
     "outputs_hidden": false
    }
   },
   "outputs": [],
   "source": []
  }
 ],
 "metadata": {
  "kernelspec": {
   "display_name": "Python 3 (ipykernel)",
   "language": "python",
   "name": "python3"
  },
  "language_info": {
   "codemirror_mode": {
    "name": "ipython",
    "version": 3
   },
   "file_extension": ".py",
   "mimetype": "text/x-python",
   "name": "python",
   "nbconvert_exporter": "python",
   "pygments_lexer": "ipython3",
   "version": "3.11.4"
  }
 },
 "nbformat": 4,
 "nbformat_minor": 4
}
