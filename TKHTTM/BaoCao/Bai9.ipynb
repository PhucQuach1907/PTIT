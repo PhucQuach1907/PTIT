{
 "cells": [
  {
   "cell_type": "code",
   "execution_count": null,
   "id": "719055c3-76bf-4db6-b4be-196acb087aad",
   "metadata": {},
   "outputs": [],
   "source": [
    "import keras\n",
    "\n",
    "# Tạo một lớp Embedding với một từ vựng gồm 200 từ và một không gian vector gồm 32 chiều\n",
    "e = keras.layers.Embedding(200, 32)\n",
    "\n",
    "# Tạo một mô hình với lớp Embedding là lớp đầu tiên. \n",
    "model = keras.Sequential([e])\n",
    "\n",
    "# Biên dịch mô hình.\n",
    "model.compile(loss='categorical_crossentropy', optimizer='adam', metrics=['accuracy']) \n",
    "\n",
    "# Huấn luyện mô hình trên tập dữ liệu gồm văn bản và nhãn.\n",
    "model.fit(x_train, y_train, epochs=10)\n",
    "\n",
    "# Đánh giá mô hình trên tập dữ liệu kiểm tra.\n",
    "model.evaluate(x_test, y_test)"
   ]
  },
  {
   "cell_type": "code",
   "execution_count": null,
   "id": "271d27a4-f6e1-4b09-ac11-67ce444f41f9",
   "metadata": {},
   "outputs": [],
   "source": [
    "import keras\n",
    "\n",
    "# Tái mô hình embedding Glove. \n",
    "embeddings = numpy.load('glove.6B.300d.txt', encoding='latin1')\n",
    "\n",
    "# Tạo một lớp Embedding với mô hình embedding GloVe đã được đào tạo sẵn.\n",
    "e = keras.layers.Embedding(embeddings.shape[0], embeddings.shape[1], weights=[embeddings])\n",
    "\n",
    "# Tạo một mô hình với lớp Embedding là lớp đầu tiên.\n",
    "model = keras.Sequential([e])\n",
    "\n",
    "# Biên dịch mô hình. \n",
    "model.compile(loss='categorical_crossentropy', optimizer 'adam', metrics=['accuracy'])\n",
    "\n",
    "# Huấn luyện mô hình trên tập dữ liệu gồm văn bản và nhãn. \n",
    "model.fit(x_train, y train, epochs=10)\n",
    "\n",
    "# Đánh giá mô hình trên tập dữ liệu kiểm tra. \n",
    "model.evaluate(x_test, y_test)"
   ]
  }
 ],
 "metadata": {
  "kernelspec": {
   "display_name": "Python 3 (ipykernel)",
   "language": "python",
   "name": "python3"
  },
  "language_info": {
   "codemirror_mode": {
    "name": "ipython",
    "version": 3
   },
   "file_extension": ".py",
   "mimetype": "text/x-python",
   "name": "python",
   "nbconvert_exporter": "python",
   "pygments_lexer": "ipython3",
   "version": "3.11.4"
  }
 },
 "nbformat": 4,
 "nbformat_minor": 5
}
