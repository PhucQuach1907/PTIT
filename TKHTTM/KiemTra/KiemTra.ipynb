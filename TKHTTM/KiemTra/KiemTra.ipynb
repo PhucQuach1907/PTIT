{
 "cells": [
  {
   "cell_type": "code",
   "execution_count": 1,
   "id": "0f264206-6884-4789-8102-02f3abc7e465",
   "metadata": {
    "tags": []
   },
   "outputs": [],
   "source": [
    "import pandas as pd\n",
    "\n",
    "# Đọc các tệp Excel và chuyển thành CSV\n",
    "data_pttk_1 = pd.read_excel('data_pttk_1.xlsx')\n",
    "data_pttk_1.to_csv('data_pttk_1.csv', index=False)\n",
    "\n",
    "data_pttk_2 = pd.read_excel('data_pttk_2.xlsx')\n",
    "data_pttk_2.to_csv('data_pttk_2.csv', index=False)\n"
   ]
  },
  {
   "cell_type": "code",
   "execution_count": 2,
   "id": "4c9f1157-6746-4baa-9dbc-07a3c05b290c",
   "metadata": {
    "tags": []
   },
   "outputs": [],
   "source": [
    "data_pttk_1 = pd.read_csv('data_pttk_1.csv')\n",
    "data_pttk_2 = pd.read_csv('data_pttk_2.csv')\n",
    "data_pttk_3 = pd.read_csv('data_pttk_3.csv')\n",
    "\n",
    "# Xóa các cột không cần thiết\n",
    "data_pttk_1 = data_pttk_1[['0.1', '0.1.1', '0.2', 'điểm thi']]\n",
    "data_pttk_2 = data_pttk_2[['0.1', '0.1.1', '0.2', 'điểm thi']]\n",
    "data_pttk_3 = data_pttk_3[['10%', '10%', '20%', 'thi']]\n",
    "\n",
    "data_pttk_1.to_csv('data_pttk_1.csv', index=False)\n",
    "data_pttk_2.to_csv('data_pttk_2.csv', index=False)\n",
    "data_pttk_3.to_csv('data_pttk_3.csv', index=False)"
   ]
  },
  {
   "cell_type": "code",
   "execution_count": 3,
   "id": "b72b50cf-14ce-411b-9547-6e8e8306e988",
   "metadata": {
    "tags": []
   },
   "outputs": [],
   "source": [
    "# Đổi tên cột\n",
    "data_pttk_1 = data_pttk_1.rename(columns={'0.1': '10%', '0.1.1': '10%', '0.2': '20%', 'điểm thi' : 'thi'})\n",
    "data_pttk_2 = data_pttk_2.rename(columns={'0.1': '10%', '0.1.1': '10%', '0.2': '20%', 'điểm thi' : 'thi'})\n",
    "data_pttk_3 = data_pttk_3.rename(columns={'10%': '10%', '10%': '10%', '20%': '20%', 'Thi' : 'thi'})\n",
    "\n",
    "data_pttk_1.to_csv('data_pttk_1.csv', index=False)\n",
    "data_pttk_2.to_csv('data_pttk_2.csv', index=False)\n",
    "data_pttk_3.to_csv('data_pttk_3.csv', index=False)"
   ]
  },
  {
   "cell_type": "code",
   "execution_count": 4,
   "id": "7e80a709-47d1-4275-a5a6-2796299459de",
   "metadata": {
    "tags": []
   },
   "outputs": [],
   "source": [
    "# Đọc các tệp CSV đã chuyển và gộp thành một\n",
    "data_pttk_1 = pd.read_csv('data_pttk_1.csv')\n",
    "data_pttk_2 = pd.read_csv('data_pttk_2.csv')\n",
    "data_pttk_3 = pd.read_csv('data_pttk_3.csv')\n",
    "\n",
    "data_pttk = pd.concat([data_pttk_1, data_pttk_2, data_pttk_3], axis=0)\n",
    "\n",
    "# Loại bỏ các dòng có giá trị NaN trong dữ liệu\n",
    "data_pttk = data_pttk.dropna()\n",
    "\n",
    "# Điền các giá trị thiếu\n",
    "data_pttk['thi'].fillna(0, inplace=True)\n",
    "\n",
    "# Lưu thành một tệp CSV duy nhất\n",
    "data_pttk.to_csv('data_pttk.csv', index=False)\n"
   ]
  },
  {
   "cell_type": "code",
   "execution_count": 5,
   "id": "36ab0560-6644-4497-be34-b6286f395816",
   "metadata": {
    "tags": []
   },
   "outputs": [],
   "source": [
    "from sklearn.metrics import mean_squared_error, r2_score\n",
    "mse = []\n",
    "r2 = []"
   ]
  },
  {
   "cell_type": "code",
   "execution_count": 6,
   "id": "d1f63d82-3b12-4ded-b0b2-192b06ba1d83",
   "metadata": {},
   "outputs": [
    {
     "name": "stdin",
     "output_type": "stream",
     "text": [
      "Nhập điểm thành phần 1:  10\n",
      "Nhập điểm thành phần 2:  8\n",
      "Nhập điểm thành phần 3:  8\n"
     ]
    },
    {
     "name": "stderr",
     "output_type": "stream",
     "text": [
      "C:\\Users\\PhucQuach\\anaconda3\\Lib\\site-packages\\sklearn\\base.py:464: UserWarning: X does not have valid feature names, but LinearRegression was fitted with feature names\n",
      "  warnings.warn(\n"
     ]
    },
    {
     "name": "stdout",
     "output_type": "stream",
     "text": [
      "Điểm thi dự đoán: 7.98828581971888\n"
     ]
    },
    {
     "name": "stdin",
     "output_type": "stream",
     "text": [
      "Tiếp tục dự đoán (nhập 'q' để thoát, bất kỳ phím nào để tiếp tục):  q\n"
     ]
    }
   ],
   "source": [
    "# Sử dụng Deep learning với Linear regression để dự đoán điểm thi \n",
    "import pandas as pd\n",
    "from sklearn.linear_model import LinearRegression\n",
    "\n",
    "# Đọc dữ liệu đã tiền xử lý\n",
    "data_pttk = pd.read_csv('data_pttk.csv')\n",
    "\n",
    "# Chuẩn bị dữ liệu huấn luyện\n",
    "X = data_pttk[['10%', '10%.1', '20%']]\n",
    "y = data_pttk['thi']\n",
    "\n",
    "# Khởi tạo và huấn luyện mô hình hồi quy tuyến tính\n",
    "model = LinearRegression()\n",
    "model.fit(X, y)\n",
    "\n",
    "y_pred_linear = model.predict(X)\n",
    "mse_linear = mean_squared_error(y, y_pred_linear)\n",
    "r2_linear = r2_score(y, y_pred_linear)\n",
    "mse.append(mse_linear)\n",
    "r2.append(r2_linear)\n",
    "\n",
    "while True:\n",
    "    try:\n",
    "        # Nhập điểm thành phần từ người dùng\n",
    "        diem1 = float(input(\"Nhập điểm thành phần 1: \"))\n",
    "        diem2 = float(input(\"Nhập điểm thành phần 2: \"))\n",
    "        diem3 = float(input(\"Nhập điểm thành phần 3: \"))\n",
    "\n",
    "        # Dự đoán điểm thi\n",
    "        diem_thi_du_doan = model.predict([[diem1, diem2, diem3]])\n",
    "\n",
    "        print(f\"Điểm thi dự đoán: {diem_thi_du_doan[0]}\")\n",
    "    except ValueError:\n",
    "        print(\"Vui lòng nhập số hợp lệ.\")\n",
    "    \n",
    "    tiep_tuc = input(\"Tiếp tục dự đoán (nhập 'q' để thoát, bất kỳ phím nào để tiếp tục): \")\n",
    "    if tiep_tuc.lower() == 'q':\n",
    "        break\n"
   ]
  },
  {
   "cell_type": "code",
   "execution_count": 7,
   "id": "4c5b3b86-354f-4d57-b54b-adab1919edff",
   "metadata": {
    "tags": []
   },
   "outputs": [
    {
     "name": "stdin",
     "output_type": "stream",
     "text": [
      "Nhập điểm thành phần 1:  10\n",
      "Nhập điểm thành phần 2:  8\n",
      "Nhập điểm thành phần 3:  8\n"
     ]
    },
    {
     "name": "stderr",
     "output_type": "stream",
     "text": [
      "C:\\Users\\PhucQuach\\anaconda3\\Lib\\site-packages\\sklearn\\base.py:464: UserWarning: X does not have valid feature names, but SVR was fitted with feature names\n",
      "  warnings.warn(\n"
     ]
    },
    {
     "name": "stdout",
     "output_type": "stream",
     "text": [
      "Điểm thi dự đoán: 7.906909734643325\n"
     ]
    },
    {
     "name": "stdin",
     "output_type": "stream",
     "text": [
      "Tiếp tục dự đoán (nhập 'q' để thoát, bất kỳ phím nào để tiếp tục):  q\n"
     ]
    }
   ],
   "source": [
    "# Support Vector Machine\n",
    "from sklearn.svm import SVR\n",
    "\n",
    "# Đọc dữ liệu đã tiền xử lý\n",
    "data_pttk = pd.read_csv('data_pttk.csv')\n",
    "\n",
    "# Chọn features (điểm thành phần) và target (điểm thi)\n",
    "X = data_pttk[['10%', '10%.1', '20%']]\n",
    "y = data_pttk['thi']\n",
    "\n",
    "\n",
    "# Khởi tạo và huấn luyện mô hình SVM\n",
    "model = SVR(kernel='linear', C=1.0)\n",
    "model.fit(X, y)\n",
    "\n",
    "y_pred_svm = model.predict(X)\n",
    "mse_svm = mean_squared_error(y, y_pred_svm)\n",
    "r2_svm = r2_score(y, y_pred_svm)\n",
    "mse.append(mse_svm)\n",
    "r2.append(r2_svm)\n",
    "\n",
    "while True:\n",
    "    try:\n",
    "        # Nhập điểm thành phần từ bàn phím\n",
    "        diem1 = float(input(\"Nhập điểm thành phần 1: \"))\n",
    "        diem2 = float(input(\"Nhập điểm thành phần 2: \"))\n",
    "        diem3 = float(input(\"Nhập điểm thành phần 3: \"))\n",
    "\n",
    "        # Dự đoán điểm thi\n",
    "        diem_thi_du_doan = model.predict([[diem1, diem2, diem3]])\n",
    "\n",
    "        print(f\"Điểm thi dự đoán: {diem_thi_du_doan[0]}\")\n",
    "    except ValueError:\n",
    "        print(\"Vui lòng nhập số hợp lệ.\")\n",
    "    \n",
    "    tiep_tuc = input(\"Tiếp tục dự đoán (nhập 'q' để thoát, bất kỳ phím nào để tiếp tục): \")\n",
    "    if tiep_tuc.lower() == 'q':\n",
    "        break\n"
   ]
  },
  {
   "cell_type": "code",
   "execution_count": 8,
   "id": "418d4ab2-b337-41a0-9509-b7ae56c8a0cf",
   "metadata": {
    "tags": []
   },
   "outputs": [
    {
     "name": "stdin",
     "output_type": "stream",
     "text": [
      "Nhập điểm thành phần 1:  10\n",
      "Nhập điểm thành phần 2:  8\n",
      "Nhập điểm thành phần 3:  8\n"
     ]
    },
    {
     "name": "stdout",
     "output_type": "stream",
     "text": [
      "Điểm thi dự đoán: 8.5\n"
     ]
    },
    {
     "name": "stdin",
     "output_type": "stream",
     "text": [
      "Tiếp tục dự đoán (nhập 'q' để thoát, bất kỳ phím nào để tiếp tục):  q\n"
     ]
    }
   ],
   "source": [
    "# K Nearest Neightbors\n",
    "from sklearn.model_selection import train_test_split\n",
    "from sklearn.preprocessing import StandardScaler\n",
    "from sklearn.neighbors import KNeighborsRegressor\n",
    "\n",
    "# Đọc dữ liệu từ file CSV đã xử lý\n",
    "data_pttk = pd.read_csv('data_pttk.csv')\n",
    "\n",
    "# Chia dữ liệu thành features (X) và target (y)\n",
    "X = data_pttk[['10%', '10%.1', '20%']]\n",
    "y = data_pttk['thi']\n",
    "\n",
    "# Chuẩn hóa dữ liệu\n",
    "scaler = StandardScaler()\n",
    "X = scaler.fit_transform(X)\n",
    "\n",
    "# Chia dữ liệu thành tập huấn luyện và tập kiểm tra\n",
    "X_train, X_test, y_train, y_test = train_test_split(X, y, test_size=0.2, random_state=42)\n",
    "\n",
    "# Khởi tạo và huấn luyện mô hình KNN\n",
    "model = KNeighborsRegressor(n_neighbors=5)\n",
    "model.fit(X_train, y_train)\n",
    "\n",
    "y_pred_knn = model.predict(X)\n",
    "mse_knn = mean_squared_error(y, y_pred_knn)\n",
    "r2_knn = r2_score(y, y_pred_knn)\n",
    "mse.append(mse_knn)\n",
    "r2.append(r2_knn)\n",
    "\n",
    "while True:\n",
    "    try:\n",
    "        # Nhập điểm thành phần từ bàn phím\n",
    "        diem1 = float(input(\"Nhập điểm thành phần 1: \"))\n",
    "        diem2 = float(input(\"Nhập điểm thành phần 2: \"))\n",
    "        diem3 = float(input(\"Nhập điểm thành phần 3: \"))\n",
    "\n",
    "        # Dự đoán điểm thi\n",
    "        diem_thi_du_doan = model.predict([[diem1, diem2, diem3]])\n",
    "\n",
    "        print(f\"Điểm thi dự đoán: {diem_thi_du_doan[0]}\")\n",
    "    except ValueError:\n",
    "        print(\"Vui lòng nhập số hợp lệ.\")\n",
    "    \n",
    "    tiep_tuc = input(\"Tiếp tục dự đoán (nhập 'q' để thoát, bất kỳ phím nào để tiếp tục): \")\n",
    "    if tiep_tuc.lower() == 'q':\n",
    "        break\n"
   ]
  },
  {
   "cell_type": "code",
   "execution_count": 9,
   "id": "425ff333-f704-4b1a-b77c-996c9e395e60",
   "metadata": {
    "tags": []
   },
   "outputs": [
    {
     "name": "stdout",
     "output_type": "stream",
     "text": [
      "Mean Squared Error (MSE) của từng thuật toán:\n",
      "Linear Regression: 0.44110223066689724\n",
      "Support Vector Machine: 0.45675457700314276\n",
      "K Nearest Neighbors: 0.4704139072847683\n",
      "\n",
      "R-squared (R^2) của từng thuật toán:\n",
      "Linear Regression: 0.8480935830259342\n",
      "Support Vector Machine: 0.8427032410963968\n",
      "K Nearest Neighbors: 0.8379992523675028\n",
      "\n",
      "Thuật toán tối ưu dựa trên MSE:\n",
      "Linear Regression\n",
      "\n",
      "Thuật toán tối ưu dựa trên R-squared:\n",
      "Linear Regression\n"
     ]
    }
   ],
   "source": [
    "import numpy as np\n",
    "\n",
    "# Chuyển mảng thành NumPy array để dễ xử lý\n",
    "mse = np.array(mse)\n",
    "r2 = np.array(r2)\n",
    "\n",
    "# In ra giá trị MSE và R-squared của từng thuật toán\n",
    "print(\"Mean Squared Error (MSE) của từng thuật toán:\")\n",
    "print(\"Linear Regression:\", mse[0])\n",
    "print(\"Support Vector Machine:\", mse[1])\n",
    "print(\"K Nearest Neighbors:\", mse[2])\n",
    "\n",
    "print(\"\\nR-squared (R^2) của từng thuật toán:\")\n",
    "print(\"Linear Regression:\", r2[0])\n",
    "print(\"Support Vector Machine:\", r2[1])\n",
    "print(\"K Nearest Neighbors:\", r2[2])\n",
    "\n",
    "# Tìm thuật toán tối ưu dựa trên giá trị MSE hoặc R-squared thấp nhất/lớn nhất (phụ thuộc vào ngữ cảnh)\n",
    "index_min_mse = np.argmin(mse)\n",
    "index_max_r2 = np.argmax(r2)\n",
    "\n",
    "print(\"\\nThuật toán tối ưu dựa trên MSE:\")\n",
    "if index_min_mse == 0:\n",
    "    print(\"Linear Regression\")\n",
    "elif index_min_mse == 1:\n",
    "    print(\"Support Vector Machine\")\n",
    "else:\n",
    "    print(\"K Nearest Neighbors\")\n",
    "\n",
    "print(\"\\nThuật toán tối ưu dựa trên R-squared:\")\n",
    "if index_max_r2 == 0:\n",
    "    print(\"Linear Regression\")\n",
    "elif index_max_r2 == 1:\n",
    "    print(\"Support Vector Machine\")\n",
    "else:\n",
    "    print(\"K Nearest Neighbors\")\n"
   ]
  }
 ],
 "metadata": {
  "kernelspec": {
   "display_name": "Python 3 (ipykernel)",
   "language": "python",
   "name": "python3"
  },
  "language_info": {
   "codemirror_mode": {
    "name": "ipython",
    "version": 3
   },
   "file_extension": ".py",
   "mimetype": "text/x-python",
   "name": "python",
   "nbconvert_exporter": "python",
   "pygments_lexer": "ipython3",
   "version": "3.11.4"
  }
 },
 "nbformat": 4,
 "nbformat_minor": 5
}
